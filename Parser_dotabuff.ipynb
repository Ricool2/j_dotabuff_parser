{
 "cells": [
  {
   "cell_type": "code",
   "execution_count": 1,
   "id": "42470870",
   "metadata": {},
   "outputs": [
    {
     "name": "stdout",
     "output_type": "stream",
     "text": [
      "Requirement already satisfied: beautifulsoup4 in c:\\users\\nosy5\\appdata\\local\\programs\\python\\python310\\lib\\site-packages (4.11.1)\n",
      "Requirement already satisfied: soupsieve>1.2 in c:\\users\\nosy5\\appdata\\local\\programs\\python\\python310\\lib\\site-packages (from beautifulsoup4) (2.3.2.post1)\n"
     ]
    },
    {
     "name": "stderr",
     "output_type": "stream",
     "text": [
      "\n",
      "[notice] A new release of pip available: 22.3 -> 22.3.1\n",
      "[notice] To update, run: python.exe -m pip install --upgrade pip\n"
     ]
    }
   ],
   "source": [
    "!pip install beautifulsoup4"
   ]
  },
  {
   "cell_type": "code",
   "execution_count": 2,
   "id": "1ee3df77",
   "metadata": {},
   "outputs": [
    {
     "name": "stdout",
     "output_type": "stream",
     "text": [
      "Requirement already satisfied: requests in c:\\users\\nosy5\\appdata\\local\\programs\\python\\python310\\lib\\site-packages (2.28.1)\n",
      "Requirement already satisfied: idna<4,>=2.5 in c:\\users\\nosy5\\appdata\\local\\programs\\python\\python310\\lib\\site-packages (from requests) (3.4)\n",
      "Requirement already satisfied: urllib3<1.27,>=1.21.1 in c:\\users\\nosy5\\appdata\\local\\programs\\python\\python310\\lib\\site-packages (from requests) (1.26.12)\n",
      "Requirement already satisfied: certifi>=2017.4.17 in c:\\users\\nosy5\\appdata\\local\\programs\\python\\python310\\lib\\site-packages (from requests) (2022.9.24)\n",
      "Requirement already satisfied: charset-normalizer<3,>=2 in c:\\users\\nosy5\\appdata\\local\\programs\\python\\python310\\lib\\site-packages (from requests) (2.1.1)\n"
     ]
    },
    {
     "name": "stderr",
     "output_type": "stream",
     "text": [
      "\n",
      "[notice] A new release of pip available: 22.3 -> 22.3.1\n",
      "[notice] To update, run: python.exe -m pip install --upgrade pip\n"
     ]
    }
   ],
   "source": [
    "!pip install requests"
   ]
  },
  {
   "cell_type": "code",
   "execution_count": 4,
   "id": "07152b51",
   "metadata": {},
   "outputs": [
    {
     "name": "stdout",
     "output_type": "stream",
     "text": [
      "Collecting pandas\n",
      "  Downloading pandas-1.5.2-cp310-cp310-win_amd64.whl (10.4 MB)\n",
      "     ---------------------------------------- 10.4/10.4 MB 3.5 MB/s eta 0:00:00\n",
      "Collecting numpy>=1.21.0\n",
      "  Downloading numpy-1.24.1-cp310-cp310-win_amd64.whl (14.8 MB)\n",
      "     ---------------------------------------- 14.8/14.8 MB 3.9 MB/s eta 0:00:00\n",
      "Collecting pytz>=2020.1\n",
      "  Downloading pytz-2022.7-py2.py3-none-any.whl (499 kB)\n",
      "     -------------------------------------- 499.4/499.4 kB 5.2 MB/s eta 0:00:00\n",
      "Requirement already satisfied: python-dateutil>=2.8.1 in c:\\users\\nosy5\\appdata\\local\\programs\\python\\python310\\lib\\site-packages (from pandas) (2.8.2)\n",
      "Requirement already satisfied: six>=1.5 in c:\\users\\nosy5\\appdata\\local\\programs\\python\\python310\\lib\\site-packages (from python-dateutil>=2.8.1->pandas) (1.16.0)\n",
      "Installing collected packages: pytz, numpy, pandas\n",
      "Successfully installed numpy-1.24.1 pandas-1.5.2 pytz-2022.7\n"
     ]
    },
    {
     "name": "stderr",
     "output_type": "stream",
     "text": [
      "\n",
      "[notice] A new release of pip available: 22.3 -> 22.3.1\n",
      "[notice] To update, run: python.exe -m pip install --upgrade pip\n"
     ]
    }
   ],
   "source": [
    "!pip install pandas"
   ]
  },
  {
   "cell_type": "code",
   "execution_count": 1,
   "id": "7d801012",
   "metadata": {},
   "outputs": [],
   "source": [
    "import pandas as pd\n",
    "import requests\n",
    "from bs4 import BeautifulSoup as bs"
   ]
  },
  {
   "cell_type": "code",
   "execution_count": 59,
   "id": "47bebf5d",
   "metadata": {},
   "outputs": [
    {
     "name": "stdout",
     "output_type": "stream",
     "text": [
      "200\n"
     ]
    }
   ],
   "source": [
    "URL_TEMPLATE = \"https://www.dotabuff.com/players\"\n",
    "headers = {'User-Agent': 'Mozilla/5.0 (Windows NT 10.0; Win64; x64) AppleWebKit/537.36 (KHTML, like Gecko) Chrome/108.0.0.0 Safari/537.36'}\n",
    "\n",
    "r = requests.get(URL_TEMPLATE, headers=headers)\n",
    "print(r.status_code)"
   ]
  },
  {
   "cell_type": "code",
   "execution_count": 60,
   "id": "9855e62e",
   "metadata": {
    "collapsed": true
   },
   "outputs": [
    {
     "name": "stdout",
     "output_type": "stream",
     "text": [
      "{'Dendi': {'link': '/players/70388657', 'syn': 'Dendi'}, 'EG.Arteezy': {'link': '/players/86745912', 'syn': 'EG.Arteezy'}, 'NGX.SumaiL-': {'link': '/players/111620041', 'syn': 'NGX.SumaiL-'}, 'Secret.Puppey': {'link': '/players/87278757', 'syn': 'Secret.Puppey'}, 'TSpirit.Yatoro': {'link': '/players/321580662', 'syn': 'TSpirit.Yatoro'}, 'Liquid.MATUMBAMAN': {'link': '/players/72312627', 'syn': 'Liquid.MATUMBAMAN'}, 'syndereN': {'link': '/players/4281729', 'syn': 'syndereN'}, 'KuroKy': {'link': '/players/82262664', 'syn': 'KuroKy'}, 'Liquid.zai': {'link': '/players/73562326', 'syn': 'Liquid.zai'}, 'Secret.iceiceice': {'link': '/players/84772440', 'syn': 'Secret.iceiceice'}, 'PSG.LGD.Ame': {'link': '/players/898754153', 'syn': 'PSG.LGD.Ame'}, 'ana': {'link': '/players/311360822', 'syn': 'ana'}, 'EG.Cr1t-': {'link': '/players/25907144', 'syn': 'EG.Cr1t-'}, 'Secret.Nisha': {'link': '/players/121769650', 'syn': 'Secret.Nisha'}, 'PSG.LGD.Faith_bian': {'link': '/players/118134220', 'syn': 'PSG.LGD.Faith_bian'}, 'OG.Ceb': {'link': '/players/88271237', 'syn': 'OG.Ceb'}, 'Resolut1on': {'link': '/players/86725175', 'syn': 'Resolut1on'}, 'PSG.LGD.XinQ': {'link': '/players/157475523', 'syn': 'PSG.LGD.XinQ'}, 'RNG.Somnus': {'link': '/players/106863163', 'syn': 'RNG.Somnus'}, 'BetBoom.SoNNeikO': {'link': '/players/117421467', 'syn': 'BetBoom.SoNNeikO'}, 'NGX.Gh': {'link': '/players/101356886', 'syn': 'NGX.Gh'}, 'Na`Vi.No[o]ne-': {'link': '/players/106573901', 'syn': 'Na`Vi.No[o]ne-'}, 'VP.gpk~': {'link': '/players/480412663', 'syn': 'VP.gpk~'}, 'VG.Ori': {'link': '/players/107803494', 'syn': 'VG.Ori'}, 'OG.AMMAR_THE_F': {'link': '/players/183719386', 'syn': 'OG.AMMAR_THE_F'}, 'PSG.LGD.NothingToSay': {'link': '/players/173978074', 'syn': 'PSG.LGD.NothingToSay'}, 'TLN.23savage': {'link': '/players/375507918', 'syn': 'TLN.23savage'}, 'EG.Abed': {'link': '/players/154715080', 'syn': 'EG.Abed'}, 'TSpirit.Collapse': {'link': '/players/302214028', 'syn': 'TSpirit.Collapse'}, 'EG.Fly': {'link': '/players/94155156', 'syn': 'EG.Fly'}, 'QCY.Quinn': {'link': '/players/221666230', 'syn': 'QCY.Quinn'}, 'Tundra.33': {'link': '/players/86698277', 'syn': 'Tundra.33'}, 'Na`Vi.Solo': {'link': '/players/134556694', 'syn': 'Na`Vi.Solo'}, 'TSM FTX.DuBu': {'link': '/players/145550466', 'syn': 'TSM FTX.DuBu'}, 'Tundra.Sneyking': {'link': '/players/10366616', 'syn': 'Tundra.Sneyking'}, 'VP.Save': {'link': '/players/317880638', 'syn': 'VP.Save'}, 'GG.DyrachYO': {'link': '/players/116934015', 'syn': 'GG.DyrachYO'}, 'Nigma.MinD_ContRoL': {'link': '/players/34505203', 'syn': 'Nigma.MinD_ContRoL'}, 'TSM FTX.Timado': {'link': '/players/97658618', 'syn': 'TSM FTX.Timado'}, 'Fenrir': {'link': '/players/113800818', 'syn': 'Fenrir'}, 'QCY.YS': {'link': '/players/108452107', 'syn': 'QCY.YS'}, 'RNG.kaka': {'link': '/players/139876032', 'syn': 'RNG.kaka'}, 'XG.Paparazi灬': {'link': '/players/137193239', 'syn': 'XG.Paparazi灬'}, 'TSpirit.TORONTOTOKYO': {'link': '/players/431770905', 'syn': 'TSpirit.TORONTOTOKYO'}, 'QCY.MSS': {'link': '/players/86726887', 'syn': 'QCY.MSS'}, 'TSM FTX.MoonMeander': {'link': '/players/38628747', 'syn': 'TSM FTX.MoonMeander'}, 'Tundra.skiter': {'link': '/players/100058342', 'syn': 'Tundra.skiter'}, 'TSpirit.Miposhka': {'link': '/players/113331514', 'syn': 'TSpirit.Miposhka'}, 'TSpirit.Mira': {'link': '/players/256156323', 'syn': 'TSpirit.Mira'}, 'OG.Yuragi': {'link': '/players/167976729', 'syn': 'OG.Yuragi'}, 'GG.BOOM': {'link': '/players/190826739', 'syn': 'GG.BOOM'}, 'Tundra.Nine': {'link': '/players/94786276', 'syn': 'Tundra.Nine'}, 'VP.9pasha': {'link': '/players/92423451', 'syn': 'VP.9pasha'}, 'Tundra.Saksa': {'link': '/players/103735745', 'syn': 'Tundra.Saksa'}, 'PSG.LGD.y`': {'link': '/players/111114687', 'syn': 'PSG.LGD.y`'}, 'EG.Nightfall 凛': {'link': '/players/124801257', 'syn': 'EG.Nightfall 凛'}, 'BOOM.JACKBOYS': {'link': '/players/392565237', 'syn': 'BOOM.JACKBOYS'}, 'BetBoom.Daxak': {'link': '/players/177411785', 'syn': 'BetBoom.Daxak'}, 'BOOM.skem': {'link': '/players/100594231', 'syn': 'BOOM.skem'}, 'OG.bzm': {'link': '/players/93618577', 'syn': 'OG.bzm'}, 'VG.poyoyo': {'link': '/players/277141004', 'syn': 'VG.poyoyo'}, 'Aster.Xxs': {'link': '/players/129958758', 'syn': 'Aster.Xxs'}, 'VP.DM': {'link': '/players/56351509', 'syn': 'VP.DM'}, 'GG.Ace': {'link': '/players/97590558', 'syn': 'GG.Ace'}, 'VG.Yang': {'link': '/players/139937922', 'syn': 'VG.Yang'}, 'XG.old eLeVeN': {'link': '/players/134276083', 'syn': 'XG.old eLeVeN'}, 'Aster.Monet': {'link': '/players/148215639', 'syn': 'Aster.Monet'}, 'ThunderP.Pakazs': {'link': '/players/339235645', 'syn': 'ThunderP.Pakazs'}, 'Beastcoast.Chris Luck': {'link': '/players/153836240', 'syn': 'Beastcoast.Chris Luck'}, 'SG.4dr': {'link': '/players/85937380', 'syn': 'SG.4dr'}, 'BetBoom.Larl': {'link': '/players/106305042', 'syn': 'BetBoom.Larl'}, 'TSM FTX.SabeRLighT-': {'link': '/players/126212866', 'syn': 'TSM FTX.SabeRLighT-'}, 'iG.Emo': {'link': '/players/202217968', 'syn': 'iG.Emo'}, 'Aster.Borax': {'link': '/players/207829314', 'syn': 'Aster.Borax'}, 'T1.Gabbi': {'link': '/players/152545459', 'syn': 'T1.Gabbi'}, 'Liquid.miCKe': {'link': '/players/152962063', 'syn': 'Liquid.miCKe'}, 'T1.Whitemon': {'link': '/players/136829091', 'syn': 'T1.Whitemon'}, 'BOOM.Yopaj-': {'link': '/players/324277900', 'syn': 'BOOM.Yopaj-'}, 'LoA': {'link': '/players/47434686', 'syn': 'LoA'}, 'iG.JT-': {'link': '/players/138857296', 'syn': 'iG.JT-'}, 'OG.Taiga': {'link': '/players/401792574', 'syn': 'OG.Taiga'}, 'Beastcoast.Wisper': {'link': '/players/292921272', 'syn': 'Beastcoast.Wisper'}, 'Beastcoast.Scofield': {'link': '/players/157989498', 'syn': 'Beastcoast.Scofield'}, 'ThunderP.DarkMago♥': {'link': '/players/352545711', 'syn': 'ThunderP.DarkMago♥'}, 'ThunderP.PandaMoo': {'link': '/players/117089283', 'syn': 'ThunderP.PandaMoo'}, 'OG.Misha': {'link': '/players/90125566', 'syn': 'OG.Misha'}, 'Fnatic.Dj': {'link': '/players/102099826', 'syn': 'Fnatic.Dj'}, 'SG.tavo': {'link': '/players/117956848', 'syn': 'SG.tavo'}, 'TSM FTX.Bryle': {'link': '/players/238239590', 'syn': 'TSM FTX.Bryle'}, 'Fnatic.Jabz': {'link': '/players/100471531', 'syn': 'Fnatic.Jabz'}, 'Fnatic.Raven': {'link': '/players/132309493', 'syn': 'Fnatic.Raven'}, 'Liquid.iNSaNiA': {'link': '/players/54580962', 'syn': 'Liquid.iNSaNiA'}, 'T1.Karl': {'link': '/players/94281932', 'syn': 'T1.Karl'}, 'SG.Costabile': {'link': '/players/86822085', 'syn': 'SG.Costabile'}, 'QCY.LESLÃO': {'link': '/players/87063175', 'syn': 'QCY.LESLÃO'}, 'Liquid.Boxi': {'link': '/players/77490514', 'syn': 'Liquid.Boxi'}, 'XG.Dy': {'link': '/players/143693439', 'syn': 'XG.Dy'}, 'BetBoom.Noticed': {'link': '/players/195108598', 'syn': 'BetBoom.Noticed'}, 'XG.Pyw': {'link': '/players/138543123', 'syn': 'XG.Pyw'}, 'iG.Oli': {'link': '/players/101259972', 'syn': 'iG.Oli'}, 'Beastcoast.K1 Hector': {'link': '/players/164685175', 'syn': 'Beastcoast.K1 Hector'}, 'BOOM.TIMS': {'link': '/players/155494381', 'syn': 'BOOM.TIMS'}, 'GG.Seleri': {'link': '/players/91730177', 'syn': 'GG.Seleri'}, 'T1.Kuku': {'link': '/players/184950344', 'syn': 'T1.Kuku'}, 'ThunderP.Sacred': {'link': '/players/408729743', 'syn': 'ThunderP.Sacred'}, 'ThunderP.Matthew': {'link': '/players/155332459', 'syn': 'ThunderP.Matthew'}, 'Beastcoast.Stinger': {'link': '/players/119631156', 'syn': 'Beastcoast.Stinger'}, 'White丶Album_白学家': {'link': '/players/373520478', 'syn': 'White丶Album_白学家'}, 'GG.tOfu': {'link': '/players/16497807', 'syn': 'GG.tOfu'}, 'BOOM.Fbz': {'link': '/players/156328257', 'syn': 'BOOM.Fbz'}, 'SG.Thiolicor': {'link': '/players/105045291', 'syn': 'SG.Thiolicor'}, 'KJ': {'link': '/players/81306398', 'syn': 'KJ'}, 'T1.Xepher': {'link': '/players/121404228', 'syn': 'T1.Xepher'}, '1437': {'link': '/players/87196890', 'syn': '1437'}, '2GD': {'link': '/players/35960687', 'syn': '2GD'}, 'Alliance.Handsken': {'link': '/players/18180970', 'syn': 'Alliance.Handsken'}, 'Alliance.Limmp': {'link': '/players/12231202', 'syn': 'Alliance.Limmp'}, 'Alliance.Loda': {'link': '/players/119464562', 'syn': 'Alliance.Loda'}, 'Alliance.Nikobaby': {'link': '/players/412753955', 'syn': 'Alliance.Nikobaby'}, 'ALOHADANCE': {'link': '/players/123051238', 'syn': 'ALOHADANCE'}, 'ALWAYSWANNAFLY': {'link': '/players/91064780', 'syn': 'ALWAYSWANNAFLY'}, 'Ars-Art': {'link': '/players/107644273', 'syn': 'Ars-Art'}, 'Aster.BurNIng': {'link': '/players/90892734', 'syn': 'Aster.BurNIng'}, 'Aster.LaNm': {'link': '/players/89423756', 'syn': 'Aster.LaNm'}, 'Aui_2000': {'link': '/players/40547474', 'syn': 'Aui_2000'}, 'BananaSlamJamma': {'link': '/players/105178768', 'syn': 'BananaSlamJamma'}, 'Beastcoast.Valqui': {'link': '/players/125845797', 'syn': 'Beastcoast.Valqui'}, 'BetBoom.Forcemajor': {'link': '/players/235505993', 'syn': 'BetBoom.Forcemajor'}, 'Black^': {'link': '/players/21289303', 'syn': 'Black^'}, 'Blitz': {'link': '/players/106781506', 'syn': 'Blitz'}, 'BOOM.Mushi': {'link': '/players/89871557', 'syn': 'BOOM.Mushi'}, 'ChuaN': {'link': '/players/88553213', 'syn': 'ChuaN'}, 'ChYuaN': {'link': '/players/113435203', 'syn': 'ChYuaN'}, 'Day9tv': {'link': '/players/51503282', 'syn': 'Day9tv'}, 'DC | @SUNSfanTV': {'link': '/players/690740', 'syn': 'DC | @SUNSfanTV'}, 'DeMoN': {'link': '/players/85805514', 'syn': 'DeMoN'}, 'Deth': {'link': '/players/99983413', 'syn': 'Deth'}, 'DotaCapitalist': {'link': '/players/58380135', 'syn': 'DotaCapitalist'}, 'Draskyl': {'link': '/players/161444478', 'syn': 'Draskyl'}, 'Dread': {'link': '/players/89782335', 'syn': 'Dread'}, 'EG.BuLba': {'link': '/players/30237211', 'syn': 'EG.BuLba'}, 'EGM': {'link': '/players/3916428', 'syn': 'EGM'}, 'Elephant.Super！': {'link': '/players/90882159', 'syn': 'Elephant.Super！'}, 'Ephey': {'link': '/players/196628643', 'syn': 'Ephey'}, 'EternaLEnVy': {'link': '/players/43276219', 'syn': 'EternaLEnVy'}, 'Febby': {'link': '/players/112377459', 'syn': 'Febby'}, 'Ferrari_430': {'link': '/players/88585077', 'syn': 'Ferrari_430'}, 'Fnatic.SunBhie': {'link': '/players/32936165', 'syn': 'Fnatic.SunBhie'}, 'Fng': {'link': '/players/94049589', 'syn': 'Fng'}, 'Forev': {'link': '/players/88933594', 'syn': 'Forev'}, 'Fwosh': {'link': '/players/42493875', 'syn': 'Fwosh'}, 'Gareth': {'link': '/players/68243195', 'syn': 'Gareth'}, 'Goblak': {'link': '/players/89137399', 'syn': 'Goblak'}, 'GoDZ': {'link': '/players/76995948', 'syn': 'GoDZ'}, 'Gorgc': {'link': '/players/56939869', 'syn': 'Gorgc'}, 'GS.s4': {'link': '/players/41231571', 'syn': 'GS.s4'}, 'iG.FlyFly': {'link': '/players/168028715', 'syn': 'iG.FlyFly'}, 'IG.fy': {'link': '/players/101695162', 'syn': 'IG.fy'}, 'iLTW': {'link': '/players/113995822', 'syn': 'iLTW'}, 'Inmate': {'link': '/players/77415789', 'syn': 'Inmate'}, 'ixmike88': {'link': '/players/86715129', 'syn': 'ixmike88'}, 'JerAx': {'link': '/players/26771994', 'syn': 'JerAx'}, 'JotM': {'link': '/players/36547811', 'syn': 'JotM'}, 'KBBQ': {'link': '/players/91967054', 'syn': 'KBBQ'}, 'KotlGuy': {'link': '/players/23553084', 'syn': 'KotlGuy'}, 'Kyle': {'link': '/players/49317728', 'syn': 'Kyle'}, 'LD': {'link': '/players/145875', 'syn': 'LD'}, 'Liquid.Jabbz': {'link': '/players/60943014', 'syn': 'Liquid.Jabbz'}, 'Liquid.qojqva': {'link': '/players/86738694', 'syn': 'Liquid.qojqva'}, 'Logical': {'link': '/players/189892277', 'syn': 'Logical'}, 'Lyrical': {'link': '/players/193673646', 'syn': 'Lyrical'}, 'Madara': {'link': '/players/95430068', 'syn': 'Madara'}, 'Maut': {'link': '/players/12196957', 'syn': 'Maut'}, 'Merlini': {'link': '/players/67760037', 'syn': 'Merlini'}, 'Moxxi': {'link': '/players/181866849', 'syn': 'Moxxi'}, 'NGX.Miracle-': {'link': '/players/105248644', 'syn': 'NGX.Miracle-'}, 'NS': {'link': '/players/93712171', 'syn': 'NS'}, 'ODPixel': {'link': '/players/89511038', 'syn': 'ODPixel'}, 'OG.N0tail': {'link': '/players/19672354', 'syn': 'OG.N0tail'}, 'OG.Topson': {'link': '/players/94054712', 'syn': 'OG.Topson'}, 'PPD': {'link': '/players/86727555', 'syn': 'PPD'}, 'Purge': {'link': '/players/66296404', 'syn': 'Purge'}, 'RNG.Setsu': {'link': '/players/139822354', 'syn': 'RNG.Setsu'}, 'rOtk': {'link': '/players/91698091', 'syn': 'rOtk'}, 'Sansheng': {'link': '/players/100883708', 'syn': 'Sansheng'}, 'Secret.Heen': {'link': '/players/105599955', 'syn': 'Secret.Heen'}, 'Secret.YapzOr': {'link': '/players/89117038', 'syn': 'Secret.YapzOr'}, 'Shane': {'link': '/players/226583', 'syn': 'Shane'}, 'Sheever': {'link': '/players/37147003', 'syn': 'Sheever'}, 'SingSing': {'link': '/players/19757254', 'syn': 'SingSing'}, 'SirActionSlacks': {'link': '/players/68186278', 'syn': 'SirActionSlacks'}, 'Sylar': {'link': '/players/108382060', 'syn': 'Sylar'}, 'T1.March': {'link': '/players/3940262', 'syn': 'T1.March'}, '@TheMaelk': {'link': '/players/59457413', 'syn': '@TheMaelk'}, 'ThunderP.Vintage': {'link': '/players/132379908', 'syn': 'ThunderP.Vintage'}, 'TrentPax': {'link': '/players/70090192', 'syn': 'TrentPax'}, 'TSM FTX.Misery': {'link': '/players/87382579', 'syn': 'TSM FTX.Misery'}, 'TSpirit.Silent': {'link': '/players/89269794', 'syn': 'TSpirit.Silent'}, 'VP.Kingslayer': {'link': '/players/187758589', 'syn': 'VP.Kingslayer'}, '@WagaGaming': {'link': '/players/32995405', 'syn': '@WagaGaming'}, 'WinteR': {'link': '/players/86762037', 'syn': 'WinteR'}, 'XBOCT': {'link': '/players/89625472', 'syn': 'XBOCT'}, 'xiao8': {'link': '/players/98887913', 'syn': 'xiao8'}, 'Zyori': {'link': '/players/88990397', 'syn': 'Zyori'}}\n"
     ]
    }
   ],
   "source": [
    "soup = bs(r.text, 'html.parser')\n",
    "players = soup.find_all('td', class_='cell-large')\n",
    "#print(players)\n",
    "d = {}\n",
    "for name in players:\n",
    "    d[name.a.text] = {'link': name.a['href'], 'syn': name.a.text}\n",
    "print(d)"
   ]
  },
  {
   "cell_type": "code",
   "execution_count": 61,
   "id": "87ca3e3b",
   "metadata": {},
   "outputs": [
    {
     "name": "stdout",
     "output_type": "stream",
     "text": [
      "Dendi\n",
      "200\n"
     ]
    }
   ],
   "source": [
    "player_url = \"https://www.dotabuff.com\"\n",
    "ch = str(input())\n",
    "r_player = requests.get(player_url + d[ch]['link'], headers=headers)\n",
    "print(r_player.status_code)"
   ]
  },
  {
   "cell_type": "code",
   "execution_count": 2,
   "id": "4de41873",
   "metadata": {},
   "outputs": [],
   "source": [
    "class DotabuffParser():\n",
    "    \n",
    "    import pandas as pd\n",
    "    import requests\n",
    "    from bs4 import BeautifulSoup as bs\n",
    "    \n",
    "    def __init__(self, header):\n",
    "        self.URL_TEMPLATE = \"https://www.dotabuff.com\"\n",
    "        self.headers = {'User-Agent': header}\n",
    "        self.players_dct = {}\n",
    "        self.url = '/players'\n",
    "        self.con = self.connect_to(self.url)\n",
    "        if self.con.status_code == 200:\n",
    "            self.soup = bs(self.con.text, 'html.parser')\n",
    "            self.players = self.soup.find_all('td', class_='cell-large')\n",
    "            for name in self.players:\n",
    "                self.players_dct[name.a.text] = {'link': name.a['href'], 'syn': name.a.text}\n",
    "        else:\n",
    "            print(f'Ошибка подключения (Код: {self.con})')\n",
    "            del()\n",
    "    \n",
    "    def connect_to(self, url = ''):\n",
    "        self.con = requests.get(self.URL_TEMPLATE + url, headers = self.headers)\n",
    "        return self.con   \n",
    "           \n",
    "    def get_player(self, name):\n",
    "        self.name = name\n",
    "        self.action = {\"1\": self.get_best_heros(self.name), \"2\": self.get_matches(self.name)\n",
    "            \n",
    "        }\n",
    "        while True: \n",
    "            self.chose = str(input(\"\\n1 - показать популярных героев\\n2 - показать последние матчи\\ne - выход\\n\"))\n",
    "            if self.chose != 'e':\n",
    "                print()\n",
    "                self.get_player_header(self.name)\n",
    "                self.action[self.chose]\n",
    "            else:\n",
    "                break\n",
    "    \n",
    "    def get_top_players(self):\n",
    "        return self.players_dct\n",
    " \n",
    "    def get_player_header(self, name):\n",
    "        self.name = name\n",
    "        self.con = self.connect_to(self.players_dct[self.name]['link'])\n",
    "        if self.con.status_code == 200:\n",
    "            self.soup = bs(self.con.text, 'html.parser')\n",
    "            self.header = self.soup.find('div', class_ = 'header-content-secondary')\n",
    "            self.last_game = self.header.time['datetime'].split('+')[0]\n",
    "            self.last_game = self.last_game.split('T')\n",
    "            self.match_scores = [int(self.header.find('span', class_ = 'wins').text.replace(',', '')),\n",
    "                                 int(self.header.find('span', class_ = 'losses').text.replace(',', '')),\n",
    "                                 int(self.header.find('span', class_ = 'abandons').text.replace(',', ''))]\n",
    "            self.win_pr = self.match_scores[0] / sum(self.match_scores) * 100\n",
    "            print(f'Игрок: {self.name}'.ljust(59))\n",
    "            print(f'Последняя игра: {self.last_game[0]} в {self.last_game[1]}')\n",
    "            print(f'Матчи: {self.match_scores[0]} — {self.match_scores[1]} — {self.match_scores[2]}')\n",
    "            print(f'Доля побед: {round(self.win_pr, 2)}%')\n",
    "        else:\n",
    "            return f'Ошибка подключения (Код: {self.con})', 'get_player_header'\n",
    "    \n",
    "    def get_matches(self, name):\n",
    "        self.name = name\n",
    "        self.matches = {}\n",
    "        self.wl = {'Won Match': 'Победа', 'Lost Match': 'Поражение'}\n",
    "        self.con = self.connect_to(self.players_dct[self.name]['link'])\n",
    "        if self.con.status_code == 200:\n",
    "            self.soup = bs(self.con.text, 'html.parser')\n",
    "            self.table_matches = self.soup.find('div', class_='r-table r-only-mobile-5 performances-overview')\n",
    "            self.all_matches = self.table_matches.find_all('div', class_ = 'r-row')\n",
    "\n",
    "            for name in self.all_matches:\n",
    "                self.matches[name.a.img['title']] = [\n",
    "                    name.find('div', class_ = 'r-fluid r-175 r-text-only r-right r-match-result').a.text,\n",
    "                    name.find('div', class_ = 'subtext').text]\n",
    "            print(' Последние игры '.center(59, '—'))\n",
    "            print(\"\\033[4m{}\".format('Герой'.center(25)+'Ранг'.center(18)+'Результат'.center(16)))\n",
    "            self.i = 1\n",
    "            for k, item in self.matches.items():\n",
    "                a, b, c = (str(self.i) + ') ' + k).ljust(25), self.wl[item[0]].ljust(11), item[1].center(16)\n",
    "                print(f'{a}||{c}|| {b}||')\n",
    "                self.i += 1\n",
    "            #print('—' * 59)\n",
    "        else:\n",
    "            return f'Ошибка подключения (Код: {self.con})', 'get_matches'\n",
    "    \n",
    "    def get_best_heros(self, name):\n",
    "        self.name = name\n",
    "        self.matches = {}\n",
    "        self.con = self.connect_to(self.players_dct[self.name]['link'])\n",
    "        if self.con.status_code == 200:\n",
    "            self.soup = bs(self.con.text, 'html.parser')\n",
    "            self.table_top = self.soup.find('div', class_='r-table r-only-mobile-5 heroes-overview')\n",
    "            self.top_matches = self.table_top.find_all('div', class_ = 'r-row')\n",
    "            for name in self.top_matches:\n",
    "                k = name.find_all('div', class_ = 'r-fluid r-10 r-line-graph')\n",
    "                self.matches[name.a.img['title']] = [int(k[0].find('div', class_ = 'r-body').text.replace(',', '')),\n",
    "                                                     k[1].find('div', class_ = 'r-body').text,\n",
    "                                                    name.find('span', class_ = 'primary-lane-text').text]\n",
    "            print(' Лучшие показатели '.center(60, '—'))\n",
    "            print(\"\\033[4m{}\".format('Герой'.center(28)+'Игр'.center(10)+'Винрейт'.center(8)+'Позиция'.center(14)))\n",
    "            for k, item in self.matches.items():\n",
    "                a, b, c, d = k.ljust(25), str(item[0]).center(7), item[1].rjust(7), item[2].rjust(11)\n",
    "                print(f'||{a}||{b}||{c}||{d}||')\n",
    "        else:\n",
    "            return f'Ошибка подключения (Код: {self.con})', 'get_best_heros'\n"
   ]
  },
  {
   "cell_type": "code",
   "execution_count": null,
   "id": "ea2e7b50",
   "metadata": {},
   "outputs": [
    {
     "name": "stdout",
     "output_type": "stream",
     "text": [
      "———————————————————— Лучшие показатели —————————————————————\n",
      "\u001b[4m           Герой               Игр    Винрейт    Позиция    \n",
      "||Huskar                   ||  434  || 59.91%|| Safe Lane ||\n",
      "||Troll Warlord            ||  414  || 59.18%|| Safe Lane ||\n",
      "||Juggernaut               ||  407  || 51.35%|| Safe Lane ||\n",
      "||Anti-Mage                ||  400  || 53.75%|| Safe Lane ||\n",
      "||Terrorblade              ||  341  || 57.77%|| Safe Lane ||\n",
      "||Bloodseeker              ||  226  || 62.39%|| Safe Lane ||\n",
      "||Alchemist                ||  222  || 56.31%|| Safe Lane ||\n",
      "||Phantom Assassin         ||  200  || 59.00%|| Safe Lane ||\n",
      "||Slark                    ||  183  || 50.27%|| Safe Lane ||\n",
      "||Spectre                  ||  168  || 54.76%|| Safe Lane ||\n",
      "—————————————————————— Последние игры —————————————————————\n",
      "\u001b[4m          Герой                 Ранг          Результат    \n",
      "1) Wraith King           ||    Immortal    || Победа     ||\n",
      "2) Troll Warlord         ||    Immortal    || Победа     ||\n",
      "3) Chaos Knight          ||    Immortal    || Поражение  ||\n",
      "4) Bloodseeker           ||    Immortal    || Поражение  ||\n",
      "5) Sven                  ||    Immortal    || Победа     ||\n",
      "6) Juggernaut            ||    Immortal    || Поражение  ||\n",
      "7) Terrorblade           ||    Immortal    || Победа     ||\n",
      "8) Alchemist             ||    Immortal    || Победа     ||\n",
      "9) Monkey King           ||    Immortal    || Поражение  ||\n",
      "10) Faceless Void        ||    Immortal    || Победа     ||\n"
     ]
    }
   ],
   "source": [
    "dbp = DotabuffParser('Mozilla/5.0 (X11; Ubuntu; Linux i686; rv:106.0) Gecko/20100101 Firefox/106.0')\n",
    "\n",
    "dbp.get_player('Beastcoast.K1 Hector')\n",
    "\n",
    "#dbp.get_matches('TSpirit.Yatoro')\n",
    "#dbp.get_best_heros('TSpirit.Yatoro')"
   ]
  },
  {
   "cell_type": "code",
   "execution_count": 3,
   "id": "6ef9578b",
   "metadata": {},
   "outputs": [
    {
     "ename": "NameError",
     "evalue": "name 'dbp' is not defined",
     "output_type": "error",
     "traceback": [
      "\u001b[1;31m---------------------------------------------------------------------------\u001b[0m",
      "\u001b[1;31mNameError\u001b[0m                                 Traceback (most recent call last)",
      "Cell \u001b[1;32mIn[3], line 1\u001b[0m\n\u001b[1;32m----> 1\u001b[0m \u001b[43mdbp\u001b[49m\u001b[38;5;241m.\u001b[39mget_player_header(\u001b[38;5;124m'\u001b[39m\u001b[38;5;124mTSpirit.Yatoro\u001b[39m\u001b[38;5;124m'\u001b[39m)\n",
      "\u001b[1;31mNameError\u001b[0m: name 'dbp' is not defined"
     ]
    }
   ],
   "source": [
    "dbp.get_player_header('TSpirit.Yatoro')"
   ]
  },
  {
   "cell_type": "code",
   "execution_count": 181,
   "id": "6735baa6",
   "metadata": {
    "scrolled": true
   },
   "outputs": [
    {
     "data": {
      "text/plain": [
       "{'Dendi': {'link': '/players/70388657', 'syn': 'Dendi'},\n",
       " 'EG.Arteezy': {'link': '/players/86745912', 'syn': 'EG.Arteezy'},\n",
       " 'NGX.SumaiL-': {'link': '/players/111620041', 'syn': 'NGX.SumaiL-'},\n",
       " 'Secret.Puppey': {'link': '/players/87278757', 'syn': 'Secret.Puppey'},\n",
       " 'TSpirit.Yatoro': {'link': '/players/321580662', 'syn': 'TSpirit.Yatoro'},\n",
       " 'Liquid.MATUMBAMAN': {'link': '/players/72312627',\n",
       "  'syn': 'Liquid.MATUMBAMAN'},\n",
       " 'syndereN': {'link': '/players/4281729', 'syn': 'syndereN'},\n",
       " 'KuroKy': {'link': '/players/82262664', 'syn': 'KuroKy'},\n",
       " 'Liquid.zai': {'link': '/players/73562326', 'syn': 'Liquid.zai'},\n",
       " 'Secret.iceiceice': {'link': '/players/84772440', 'syn': 'Secret.iceiceice'},\n",
       " 'PSG.LGD.Ame': {'link': '/players/898754153', 'syn': 'PSG.LGD.Ame'},\n",
       " 'ana': {'link': '/players/311360822', 'syn': 'ana'},\n",
       " 'EG.Cr1t-': {'link': '/players/25907144', 'syn': 'EG.Cr1t-'},\n",
       " 'Secret.Nisha': {'link': '/players/121769650', 'syn': 'Secret.Nisha'},\n",
       " 'PSG.LGD.Faith_bian': {'link': '/players/118134220',\n",
       "  'syn': 'PSG.LGD.Faith_bian'},\n",
       " 'OG.Ceb': {'link': '/players/88271237', 'syn': 'OG.Ceb'},\n",
       " 'Resolut1on': {'link': '/players/86725175', 'syn': 'Resolut1on'},\n",
       " 'PSG.LGD.XinQ': {'link': '/players/157475523', 'syn': 'PSG.LGD.XinQ'},\n",
       " 'RNG.Somnus': {'link': '/players/106863163', 'syn': 'RNG.Somnus'},\n",
       " 'BetBoom.SoNNeikO': {'link': '/players/117421467', 'syn': 'BetBoom.SoNNeikO'},\n",
       " 'NGX.Gh': {'link': '/players/101356886', 'syn': 'NGX.Gh'},\n",
       " 'Na`Vi.No[o]ne-': {'link': '/players/106573901', 'syn': 'Na`Vi.No[o]ne-'},\n",
       " 'VP.gpk~': {'link': '/players/480412663', 'syn': 'VP.gpk~'},\n",
       " 'VG.Ori': {'link': '/players/107803494', 'syn': 'VG.Ori'},\n",
       " 'OG.AMMAR_THE_F': {'link': '/players/183719386', 'syn': 'OG.AMMAR_THE_F'},\n",
       " 'PSG.LGD.NothingToSay': {'link': '/players/173978074',\n",
       "  'syn': 'PSG.LGD.NothingToSay'},\n",
       " 'TLN.23savage': {'link': '/players/375507918', 'syn': 'TLN.23savage'},\n",
       " 'EG.Abed': {'link': '/players/154715080', 'syn': 'EG.Abed'},\n",
       " 'TSpirit.Collapse': {'link': '/players/302214028', 'syn': 'TSpirit.Collapse'},\n",
       " 'EG.Fly': {'link': '/players/94155156', 'syn': 'EG.Fly'},\n",
       " 'QCY.Quinn': {'link': '/players/221666230', 'syn': 'QCY.Quinn'},\n",
       " 'Tundra.33': {'link': '/players/86698277', 'syn': 'Tundra.33'},\n",
       " 'Na`Vi.Solo': {'link': '/players/134556694', 'syn': 'Na`Vi.Solo'},\n",
       " 'TSM FTX.DuBu': {'link': '/players/145550466', 'syn': 'TSM FTX.DuBu'},\n",
       " 'Tundra.Sneyking': {'link': '/players/10366616', 'syn': 'Tundra.Sneyking'},\n",
       " 'VP.Save': {'link': '/players/317880638', 'syn': 'VP.Save'},\n",
       " 'GG.DyrachYO': {'link': '/players/116934015', 'syn': 'GG.DyrachYO'},\n",
       " 'Nigma.MinD_ContRoL': {'link': '/players/34505203',\n",
       "  'syn': 'Nigma.MinD_ContRoL'},\n",
       " 'TSM FTX.Timado': {'link': '/players/97658618', 'syn': 'TSM FTX.Timado'},\n",
       " 'Fenrir': {'link': '/players/113800818', 'syn': 'Fenrir'},\n",
       " 'QCY.YS': {'link': '/players/108452107', 'syn': 'QCY.YS'},\n",
       " 'RNG.kaka': {'link': '/players/139876032', 'syn': 'RNG.kaka'},\n",
       " 'XG.Paparazi灬': {'link': '/players/137193239', 'syn': 'XG.Paparazi灬'},\n",
       " 'TSpirit.TORONTOTOKYO': {'link': '/players/431770905',\n",
       "  'syn': 'TSpirit.TORONTOTOKYO'},\n",
       " 'QCY.MSS': {'link': '/players/86726887', 'syn': 'QCY.MSS'},\n",
       " 'TSM FTX.MoonMeander': {'link': '/players/38628747',\n",
       "  'syn': 'TSM FTX.MoonMeander'},\n",
       " 'Tundra.skiter': {'link': '/players/100058342', 'syn': 'Tundra.skiter'},\n",
       " 'TSpirit.Miposhka': {'link': '/players/113331514', 'syn': 'TSpirit.Miposhka'},\n",
       " 'TSpirit.Mira': {'link': '/players/256156323', 'syn': 'TSpirit.Mira'},\n",
       " 'OG.Yuragi': {'link': '/players/167976729', 'syn': 'OG.Yuragi'},\n",
       " 'GG.BOOM': {'link': '/players/190826739', 'syn': 'GG.BOOM'},\n",
       " 'Tundra.Nine': {'link': '/players/94786276', 'syn': 'Tundra.Nine'},\n",
       " 'VP.9pasha': {'link': '/players/92423451', 'syn': 'VP.9pasha'},\n",
       " 'Tundra.Saksa': {'link': '/players/103735745', 'syn': 'Tundra.Saksa'},\n",
       " 'PSG.LGD.y`': {'link': '/players/111114687', 'syn': 'PSG.LGD.y`'},\n",
       " 'EG.Nightfall 凛': {'link': '/players/124801257', 'syn': 'EG.Nightfall 凛'},\n",
       " 'BOOM.JACKBOYS': {'link': '/players/392565237', 'syn': 'BOOM.JACKBOYS'},\n",
       " 'BetBoom.Daxak': {'link': '/players/177411785', 'syn': 'BetBoom.Daxak'},\n",
       " 'BOOM.skem': {'link': '/players/100594231', 'syn': 'BOOM.skem'},\n",
       " 'OG.bzm': {'link': '/players/93618577', 'syn': 'OG.bzm'},\n",
       " 'VG.poyoyo': {'link': '/players/277141004', 'syn': 'VG.poyoyo'},\n",
       " 'Aster.Xxs': {'link': '/players/129958758', 'syn': 'Aster.Xxs'},\n",
       " 'VP.DM': {'link': '/players/56351509', 'syn': 'VP.DM'},\n",
       " 'GG.Ace': {'link': '/players/97590558', 'syn': 'GG.Ace'},\n",
       " 'VG.Yang': {'link': '/players/139937922', 'syn': 'VG.Yang'},\n",
       " 'XG.old eLeVeN': {'link': '/players/134276083', 'syn': 'XG.old eLeVeN'},\n",
       " 'Aster.Monet': {'link': '/players/148215639', 'syn': 'Aster.Monet'},\n",
       " 'ThunderP.Pakazs': {'link': '/players/339235645', 'syn': 'ThunderP.Pakazs'},\n",
       " 'Beastcoast.Chris Luck': {'link': '/players/153836240',\n",
       "  'syn': 'Beastcoast.Chris Luck'},\n",
       " 'SG.4dr': {'link': '/players/85937380', 'syn': 'SG.4dr'},\n",
       " 'BetBoom.Larl': {'link': '/players/106305042', 'syn': 'BetBoom.Larl'},\n",
       " 'TSM FTX.SabeRLighT-': {'link': '/players/126212866',\n",
       "  'syn': 'TSM FTX.SabeRLighT-'},\n",
       " 'iG.Emo': {'link': '/players/202217968', 'syn': 'iG.Emo'},\n",
       " 'Aster.Borax': {'link': '/players/207829314', 'syn': 'Aster.Borax'},\n",
       " 'T1.Gabbi': {'link': '/players/152545459', 'syn': 'T1.Gabbi'},\n",
       " 'Liquid.miCKe': {'link': '/players/152962063', 'syn': 'Liquid.miCKe'},\n",
       " 'T1.Whitemon': {'link': '/players/136829091', 'syn': 'T1.Whitemon'},\n",
       " 'BOOM.Yopaj-': {'link': '/players/324277900', 'syn': 'BOOM.Yopaj-'},\n",
       " 'LoA': {'link': '/players/47434686', 'syn': 'LoA'},\n",
       " 'iG.JT-': {'link': '/players/138857296', 'syn': 'iG.JT-'},\n",
       " 'OG.Taiga': {'link': '/players/401792574', 'syn': 'OG.Taiga'},\n",
       " 'Beastcoast.Wisper': {'link': '/players/292921272',\n",
       "  'syn': 'Beastcoast.Wisper'},\n",
       " 'Beastcoast.Scofield': {'link': '/players/157989498',\n",
       "  'syn': 'Beastcoast.Scofield'},\n",
       " 'ThunderP.DarkMago♥': {'link': '/players/352545711',\n",
       "  'syn': 'ThunderP.DarkMago♥'},\n",
       " 'ThunderP.PandaMoo': {'link': '/players/117089283',\n",
       "  'syn': 'ThunderP.PandaMoo'},\n",
       " 'OG.Misha': {'link': '/players/90125566', 'syn': 'OG.Misha'},\n",
       " 'Fnatic.Dj': {'link': '/players/102099826', 'syn': 'Fnatic.Dj'},\n",
       " 'SG.tavo': {'link': '/players/117956848', 'syn': 'SG.tavo'},\n",
       " 'TSM FTX.Bryle': {'link': '/players/238239590', 'syn': 'TSM FTX.Bryle'},\n",
       " 'Fnatic.Jabz': {'link': '/players/100471531', 'syn': 'Fnatic.Jabz'},\n",
       " 'Fnatic.Raven': {'link': '/players/132309493', 'syn': 'Fnatic.Raven'},\n",
       " 'Liquid.iNSaNiA': {'link': '/players/54580962', 'syn': 'Liquid.iNSaNiA'},\n",
       " 'T1.Karl': {'link': '/players/94281932', 'syn': 'T1.Karl'},\n",
       " 'SG.Costabile': {'link': '/players/86822085', 'syn': 'SG.Costabile'},\n",
       " 'QCY.LESLÃO': {'link': '/players/87063175', 'syn': 'QCY.LESLÃO'},\n",
       " 'Liquid.Boxi': {'link': '/players/77490514', 'syn': 'Liquid.Boxi'},\n",
       " 'XG.Dy': {'link': '/players/143693439', 'syn': 'XG.Dy'},\n",
       " 'BetBoom.Noticed': {'link': '/players/195108598', 'syn': 'BetBoom.Noticed'},\n",
       " 'XG.Pyw': {'link': '/players/138543123', 'syn': 'XG.Pyw'},\n",
       " 'iG.Oli': {'link': '/players/101259972', 'syn': 'iG.Oli'},\n",
       " 'Beastcoast.K1 Hector': {'link': '/players/164685175',\n",
       "  'syn': 'Beastcoast.K1 Hector'},\n",
       " 'BOOM.TIMS': {'link': '/players/155494381', 'syn': 'BOOM.TIMS'},\n",
       " 'GG.Seleri': {'link': '/players/91730177', 'syn': 'GG.Seleri'},\n",
       " 'T1.Kuku': {'link': '/players/184950344', 'syn': 'T1.Kuku'},\n",
       " 'ThunderP.Sacred': {'link': '/players/408729743', 'syn': 'ThunderP.Sacred'},\n",
       " 'ThunderP.Matthew': {'link': '/players/155332459', 'syn': 'ThunderP.Matthew'},\n",
       " 'Beastcoast.Stinger': {'link': '/players/119631156',\n",
       "  'syn': 'Beastcoast.Stinger'},\n",
       " 'White丶Album_白学家': {'link': '/players/373520478', 'syn': 'White丶Album_白学家'},\n",
       " 'GG.tOfu': {'link': '/players/16497807', 'syn': 'GG.tOfu'},\n",
       " 'BOOM.Fbz': {'link': '/players/156328257', 'syn': 'BOOM.Fbz'},\n",
       " 'SG.Thiolicor': {'link': '/players/105045291', 'syn': 'SG.Thiolicor'},\n",
       " 'KJ': {'link': '/players/81306398', 'syn': 'KJ'},\n",
       " 'T1.Xepher': {'link': '/players/121404228', 'syn': 'T1.Xepher'},\n",
       " '1437': {'link': '/players/87196890', 'syn': '1437'},\n",
       " '2GD': {'link': '/players/35960687', 'syn': '2GD'},\n",
       " 'Alliance.Handsken': {'link': '/players/18180970',\n",
       "  'syn': 'Alliance.Handsken'},\n",
       " 'Alliance.Limmp': {'link': '/players/12231202', 'syn': 'Alliance.Limmp'},\n",
       " 'Alliance.Loda': {'link': '/players/119464562', 'syn': 'Alliance.Loda'},\n",
       " 'Alliance.Nikobaby': {'link': '/players/412753955',\n",
       "  'syn': 'Alliance.Nikobaby'},\n",
       " 'ALOHADANCE': {'link': '/players/123051238', 'syn': 'ALOHADANCE'},\n",
       " 'ALWAYSWANNAFLY': {'link': '/players/91064780', 'syn': 'ALWAYSWANNAFLY'},\n",
       " 'Ars-Art': {'link': '/players/107644273', 'syn': 'Ars-Art'},\n",
       " 'Aster.BurNIng': {'link': '/players/90892734', 'syn': 'Aster.BurNIng'},\n",
       " 'Aster.LaNm': {'link': '/players/89423756', 'syn': 'Aster.LaNm'},\n",
       " 'Aui_2000': {'link': '/players/40547474', 'syn': 'Aui_2000'},\n",
       " 'BananaSlamJamma': {'link': '/players/105178768', 'syn': 'BananaSlamJamma'},\n",
       " 'Beastcoast.Valqui': {'link': '/players/125845797',\n",
       "  'syn': 'Beastcoast.Valqui'},\n",
       " 'BetBoom.Forcemajor': {'link': '/players/235505993',\n",
       "  'syn': 'BetBoom.Forcemajor'},\n",
       " 'Black^': {'link': '/players/21289303', 'syn': 'Black^'},\n",
       " 'Blitz': {'link': '/players/106781506', 'syn': 'Blitz'},\n",
       " 'BOOM.Mushi': {'link': '/players/89871557', 'syn': 'BOOM.Mushi'},\n",
       " 'ChuaN': {'link': '/players/88553213', 'syn': 'ChuaN'},\n",
       " 'ChYuaN': {'link': '/players/113435203', 'syn': 'ChYuaN'},\n",
       " 'Day9tv': {'link': '/players/51503282', 'syn': 'Day9tv'},\n",
       " 'DC | @SUNSfanTV': {'link': '/players/690740', 'syn': 'DC | @SUNSfanTV'},\n",
       " 'DeMoN': {'link': '/players/85805514', 'syn': 'DeMoN'},\n",
       " 'Deth': {'link': '/players/99983413', 'syn': 'Deth'},\n",
       " 'DotaCapitalist': {'link': '/players/58380135', 'syn': 'DotaCapitalist'},\n",
       " 'Draskyl': {'link': '/players/161444478', 'syn': 'Draskyl'},\n",
       " 'Dread': {'link': '/players/89782335', 'syn': 'Dread'},\n",
       " 'EG.BuLba': {'link': '/players/30237211', 'syn': 'EG.BuLba'},\n",
       " 'EGM': {'link': '/players/3916428', 'syn': 'EGM'},\n",
       " 'Elephant.Super！': {'link': '/players/90882159', 'syn': 'Elephant.Super！'},\n",
       " 'Ephey': {'link': '/players/196628643', 'syn': 'Ephey'},\n",
       " 'EternaLEnVy': {'link': '/players/43276219', 'syn': 'EternaLEnVy'},\n",
       " 'Febby': {'link': '/players/112377459', 'syn': 'Febby'},\n",
       " 'Ferrari_430': {'link': '/players/88585077', 'syn': 'Ferrari_430'},\n",
       " 'Fnatic.SunBhie': {'link': '/players/32936165', 'syn': 'Fnatic.SunBhie'},\n",
       " 'Fng': {'link': '/players/94049589', 'syn': 'Fng'},\n",
       " 'Forev': {'link': '/players/88933594', 'syn': 'Forev'},\n",
       " 'Fwosh': {'link': '/players/42493875', 'syn': 'Fwosh'},\n",
       " 'Gareth': {'link': '/players/68243195', 'syn': 'Gareth'},\n",
       " 'Goblak': {'link': '/players/89137399', 'syn': 'Goblak'},\n",
       " 'GoDZ': {'link': '/players/76995948', 'syn': 'GoDZ'},\n",
       " 'Gorgc': {'link': '/players/56939869', 'syn': 'Gorgc'},\n",
       " 'GS.s4': {'link': '/players/41231571', 'syn': 'GS.s4'},\n",
       " 'iG.FlyFly': {'link': '/players/168028715', 'syn': 'iG.FlyFly'},\n",
       " 'IG.fy': {'link': '/players/101695162', 'syn': 'IG.fy'},\n",
       " 'iLTW': {'link': '/players/113995822', 'syn': 'iLTW'},\n",
       " 'Inmate': {'link': '/players/77415789', 'syn': 'Inmate'},\n",
       " 'ixmike88': {'link': '/players/86715129', 'syn': 'ixmike88'},\n",
       " 'JerAx': {'link': '/players/26771994', 'syn': 'JerAx'},\n",
       " 'JotM': {'link': '/players/36547811', 'syn': 'JotM'},\n",
       " 'KBBQ': {'link': '/players/91967054', 'syn': 'KBBQ'},\n",
       " 'KotlGuy': {'link': '/players/23553084', 'syn': 'KotlGuy'},\n",
       " 'Kyle': {'link': '/players/49317728', 'syn': 'Kyle'},\n",
       " 'LD': {'link': '/players/145875', 'syn': 'LD'},\n",
       " 'Liquid.Jabbz': {'link': '/players/60943014', 'syn': 'Liquid.Jabbz'},\n",
       " 'Liquid.qojqva': {'link': '/players/86738694', 'syn': 'Liquid.qojqva'},\n",
       " 'Logical': {'link': '/players/189892277', 'syn': 'Logical'},\n",
       " 'Lyrical': {'link': '/players/193673646', 'syn': 'Lyrical'},\n",
       " 'Madara': {'link': '/players/95430068', 'syn': 'Madara'},\n",
       " 'Maut': {'link': '/players/12196957', 'syn': 'Maut'},\n",
       " 'Merlini': {'link': '/players/67760037', 'syn': 'Merlini'},\n",
       " 'Moxxi': {'link': '/players/181866849', 'syn': 'Moxxi'},\n",
       " 'NGX.Miracle-': {'link': '/players/105248644', 'syn': 'NGX.Miracle-'},\n",
       " 'NS': {'link': '/players/93712171', 'syn': 'NS'},\n",
       " 'ODPixel': {'link': '/players/89511038', 'syn': 'ODPixel'},\n",
       " 'OG.N0tail': {'link': '/players/19672354', 'syn': 'OG.N0tail'},\n",
       " 'OG.Topson': {'link': '/players/94054712', 'syn': 'OG.Topson'},\n",
       " 'PPD': {'link': '/players/86727555', 'syn': 'PPD'},\n",
       " 'Purge': {'link': '/players/66296404', 'syn': 'Purge'},\n",
       " 'RNG.Setsu': {'link': '/players/139822354', 'syn': 'RNG.Setsu'},\n",
       " 'rOtk': {'link': '/players/91698091', 'syn': 'rOtk'},\n",
       " 'Sansheng': {'link': '/players/100883708', 'syn': 'Sansheng'},\n",
       " 'Secret.Heen': {'link': '/players/105599955', 'syn': 'Secret.Heen'},\n",
       " 'Secret.YapzOr': {'link': '/players/89117038', 'syn': 'Secret.YapzOr'},\n",
       " 'Shane': {'link': '/players/226583', 'syn': 'Shane'},\n",
       " 'Sheever': {'link': '/players/37147003', 'syn': 'Sheever'},\n",
       " 'SingSing': {'link': '/players/19757254', 'syn': 'SingSing'},\n",
       " 'SirActionSlacks': {'link': '/players/68186278', 'syn': 'SirActionSlacks'},\n",
       " 'Sylar': {'link': '/players/108382060', 'syn': 'Sylar'},\n",
       " 'T1.March': {'link': '/players/3940262', 'syn': 'T1.March'},\n",
       " '@TheMaelk': {'link': '/players/59457413', 'syn': '@TheMaelk'},\n",
       " 'ThunderP.Vintage': {'link': '/players/132379908', 'syn': 'ThunderP.Vintage'},\n",
       " 'TrentPax': {'link': '/players/70090192', 'syn': 'TrentPax'},\n",
       " 'TSM FTX.Misery': {'link': '/players/87382579', 'syn': 'TSM FTX.Misery'},\n",
       " 'TSpirit.Silent': {'link': '/players/89269794', 'syn': 'TSpirit.Silent'},\n",
       " 'VP.Kingslayer': {'link': '/players/187758589', 'syn': 'VP.Kingslayer'},\n",
       " '@WagaGaming': {'link': '/players/32995405', 'syn': '@WagaGaming'},\n",
       " 'WinteR': {'link': '/players/86762037', 'syn': 'WinteR'},\n",
       " 'XBOCT': {'link': '/players/89625472', 'syn': 'XBOCT'},\n",
       " 'xiao8': {'link': '/players/98887913', 'syn': 'xiao8'},\n",
       " 'Zyori': {'link': '/players/88990397', 'syn': 'Zyori'}}"
      ]
     },
     "execution_count": 181,
     "metadata": {},
     "output_type": "execute_result"
    }
   ],
   "source": [
    "dbp.get_top_players()"
   ]
  }
 ],
 "metadata": {
  "kernelspec": {
   "display_name": "Python 3 (ipykernel)",
   "language": "python",
   "name": "python3"
  },
  "language_info": {
   "codemirror_mode": {
    "name": "ipython",
    "version": 3
   },
   "file_extension": ".py",
   "mimetype": "text/x-python",
   "name": "python",
   "nbconvert_exporter": "python",
   "pygments_lexer": "ipython3",
   "version": "3.10.8"
  }
 },
 "nbformat": 4,
 "nbformat_minor": 5
}
